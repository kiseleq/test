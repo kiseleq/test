{
 "cells": [
  {
   "cell_type": "markdown",
   "id": "cdbe2951",
   "metadata": {},
   "source": [
    "# Тестовое задание на позицию Junior Analyst в Topface Media"
   ]
  },
  {
   "cell_type": "code",
   "execution_count": 448,
   "id": "bcd54ede",
   "metadata": {},
   "outputs": [],
   "source": [
    "import pandas as pd\n",
    "import numpy as np\n",
    "import seaborn as sns\n",
    "import matplotlib.pyplot as plt\n",
    "import plotly.express as px"
   ]
  },
  {
   "cell_type": "code",
   "execution_count": 449,
   "id": "2b947db7",
   "metadata": {},
   "outputs": [
    {
     "data": {
      "application/javascript": [
       "IPython.OutputArea.prototype._should_scroll = function(lines) {\n",
       "    return false;\n",
       "}\n"
      ],
      "text/plain": [
       "<IPython.core.display.Javascript object>"
      ]
     },
     "metadata": {},
     "output_type": "display_data"
    }
   ],
   "source": [
    "%%javascript\n",
    "IPython.OutputArea.prototype._should_scroll = function(lines) {\n",
    "    return false;\n",
    "}"
   ]
  },
  {
   "cell_type": "markdown",
   "id": "6f969e85",
   "metadata": {},
   "source": [
    "## Предобработка данных"
   ]
  },
  {
   "cell_type": "code",
   "execution_count": 450,
   "id": "31ac6239",
   "metadata": {},
   "outputs": [],
   "source": [
    "try:\n",
    "    df = pd.read_excel('D:datasets\\data_topface.xlsx')\n",
    "except:\n",
    "    print('Ошибка')"
   ]
  },
  {
   "cell_type": "code",
   "execution_count": 451,
   "id": "ac6200d6",
   "metadata": {
    "scrolled": true
   },
   "outputs": [
    {
     "data": {
      "text/html": [
       "<div>\n",
       "<style scoped>\n",
       "    .dataframe tbody tr th:only-of-type {\n",
       "        vertical-align: middle;\n",
       "    }\n",
       "\n",
       "    .dataframe tbody tr th {\n",
       "        vertical-align: top;\n",
       "    }\n",
       "\n",
       "    .dataframe thead th {\n",
       "        text-align: right;\n",
       "    }\n",
       "</style>\n",
       "<table border=\"1\" class=\"dataframe\">\n",
       "  <thead>\n",
       "    <tr style=\"text-align: right;\">\n",
       "      <th></th>\n",
       "      <th>client_id</th>\n",
       "      <th>sum</th>\n",
       "      <th>status</th>\n",
       "      <th>sale</th>\n",
       "      <th>new/current</th>\n",
       "      <th>Unnamed: 5</th>\n",
       "      <th>document</th>\n",
       "      <th>receiving_date</th>\n",
       "    </tr>\n",
       "  </thead>\n",
       "  <tbody>\n",
       "    <tr>\n",
       "      <th>0</th>\n",
       "      <td>NaN</td>\n",
       "      <td>NaN</td>\n",
       "      <td>Май 2021</td>\n",
       "      <td>NaN</td>\n",
       "      <td>NaN</td>\n",
       "      <td>NaN</td>\n",
       "      <td>NaN</td>\n",
       "      <td>NaN</td>\n",
       "    </tr>\n",
       "    <tr>\n",
       "      <th>1</th>\n",
       "      <td>6.0</td>\n",
       "      <td>11693.7</td>\n",
       "      <td>ВНУТРЕННИЙ</td>\n",
       "      <td>-</td>\n",
       "      <td>-</td>\n",
       "      <td>NaN</td>\n",
       "      <td>-</td>\n",
       "      <td>-</td>\n",
       "    </tr>\n",
       "    <tr>\n",
       "      <th>2</th>\n",
       "      <td>14.0</td>\n",
       "      <td>5452.7</td>\n",
       "      <td>ОПЛАЧЕНО</td>\n",
       "      <td>Петрова</td>\n",
       "      <td>новая</td>\n",
       "      <td>NaN</td>\n",
       "      <td>оригинал</td>\n",
       "      <td>2021-07-26 00:00:00</td>\n",
       "    </tr>\n",
       "    <tr>\n",
       "      <th>3</th>\n",
       "      <td>15.0</td>\n",
       "      <td>13991.7</td>\n",
       "      <td>ОПЛАЧЕНО</td>\n",
       "      <td>Иванов</td>\n",
       "      <td>текущая</td>\n",
       "      <td>NaN</td>\n",
       "      <td>оригинал</td>\n",
       "      <td>2021-06-08 00:00:00</td>\n",
       "    </tr>\n",
       "    <tr>\n",
       "      <th>4</th>\n",
       "      <td>16.0</td>\n",
       "      <td>719.7</td>\n",
       "      <td>ОПЛАЧЕНО</td>\n",
       "      <td>Иванов</td>\n",
       "      <td>текущая</td>\n",
       "      <td>NaN</td>\n",
       "      <td>оригинал</td>\n",
       "      <td>2021-06-08 00:00:00</td>\n",
       "    </tr>\n",
       "  </tbody>\n",
       "</table>\n",
       "</div>"
      ],
      "text/plain": [
       "   client_id      sum      status     sale new/current  Unnamed: 5  document  \\\n",
       "0        NaN      NaN    Май 2021      NaN         NaN         NaN       NaN   \n",
       "1        6.0  11693.7  ВНУТРЕННИЙ        -           -         NaN         -   \n",
       "2       14.0   5452.7    ОПЛАЧЕНО  Петрова       новая         NaN  оригинал   \n",
       "3       15.0  13991.7    ОПЛАЧЕНО   Иванов     текущая         NaN  оригинал   \n",
       "4       16.0    719.7    ОПЛАЧЕНО   Иванов     текущая         NaN  оригинал   \n",
       "\n",
       "        receiving_date  \n",
       "0                  NaN  \n",
       "1                    -  \n",
       "2  2021-07-26 00:00:00  \n",
       "3  2021-06-08 00:00:00  \n",
       "4  2021-06-08 00:00:00  "
      ]
     },
     "execution_count": 451,
     "metadata": {},
     "output_type": "execute_result"
    }
   ],
   "source": [
    "df.head()"
   ]
  },
  {
   "cell_type": "markdown",
   "id": "417de5c4",
   "metadata": {},
   "source": [
    "**Колонки:** \n",
    "- client_id - ID клиента;\n",
    "- sum – сумма денежных средств;\n",
    "- status – статус оплаты;\n",
    "- sale – менеджер, заключивший сделку;\n",
    "- new/current – статус сделки;\n",
    "- document – наличие оригинала подписанного договора с клиентом;\n",
    "- receiving_date – дата получения оригинала договора."
   ]
  },
  {
   "cell_type": "code",
   "execution_count": 452,
   "id": "59e4eed0",
   "metadata": {
    "scrolled": false
   },
   "outputs": [
    {
     "name": "stdout",
     "output_type": "stream",
     "text": [
      "<class 'pandas.core.frame.DataFrame'>\n",
      "RangeIndex: 730 entries, 0 to 729\n",
      "Data columns (total 8 columns):\n",
      " #   Column          Non-Null Count  Dtype  \n",
      "---  ------          --------------  -----  \n",
      " 0   client_id       724 non-null    float64\n",
      " 1   sum             724 non-null    float64\n",
      " 2   status          730 non-null    object \n",
      " 3   sale            724 non-null    object \n",
      " 4   new/current     724 non-null    object \n",
      " 5   Unnamed: 5      0 non-null      float64\n",
      " 6   document        709 non-null    object \n",
      " 7   receiving_date  607 non-null    object \n",
      "dtypes: float64(3), object(5)\n",
      "memory usage: 45.8+ KB\n"
     ]
    }
   ],
   "source": [
    "df.info()"
   ]
  },
  {
   "cell_type": "markdown",
   "id": "87e8d244",
   "metadata": {},
   "source": [
    "### Форматирование структуры таблицы"
   ]
  },
  {
   "cell_type": "markdown",
   "id": "f644320b",
   "metadata": {},
   "source": [
    "#### Удаление пустого столбца"
   ]
  },
  {
   "cell_type": "code",
   "execution_count": 453,
   "id": "2d699b65",
   "metadata": {},
   "outputs": [],
   "source": [
    "df = df.drop('Unnamed: 5', axis=1)"
   ]
  },
  {
   "cell_type": "code",
   "execution_count": 454,
   "id": "4b27f57a",
   "metadata": {
    "scrolled": true
   },
   "outputs": [
    {
     "data": {
      "text/html": [
       "<div>\n",
       "<style scoped>\n",
       "    .dataframe tbody tr th:only-of-type {\n",
       "        vertical-align: middle;\n",
       "    }\n",
       "\n",
       "    .dataframe tbody tr th {\n",
       "        vertical-align: top;\n",
       "    }\n",
       "\n",
       "    .dataframe thead th {\n",
       "        text-align: right;\n",
       "    }\n",
       "</style>\n",
       "<table border=\"1\" class=\"dataframe\">\n",
       "  <thead>\n",
       "    <tr style=\"text-align: right;\">\n",
       "      <th></th>\n",
       "      <th>client_id</th>\n",
       "      <th>sum</th>\n",
       "      <th>status</th>\n",
       "      <th>sale</th>\n",
       "      <th>new/current</th>\n",
       "      <th>document</th>\n",
       "      <th>receiving_date</th>\n",
       "    </tr>\n",
       "  </thead>\n",
       "  <tbody>\n",
       "    <tr>\n",
       "      <th>0</th>\n",
       "      <td>NaN</td>\n",
       "      <td>NaN</td>\n",
       "      <td>Май 2021</td>\n",
       "      <td>NaN</td>\n",
       "      <td>NaN</td>\n",
       "      <td>NaN</td>\n",
       "      <td>NaN</td>\n",
       "    </tr>\n",
       "    <tr>\n",
       "      <th>1</th>\n",
       "      <td>6.0</td>\n",
       "      <td>11693.7</td>\n",
       "      <td>ВНУТРЕННИЙ</td>\n",
       "      <td>-</td>\n",
       "      <td>-</td>\n",
       "      <td>-</td>\n",
       "      <td>-</td>\n",
       "    </tr>\n",
       "    <tr>\n",
       "      <th>2</th>\n",
       "      <td>14.0</td>\n",
       "      <td>5452.7</td>\n",
       "      <td>ОПЛАЧЕНО</td>\n",
       "      <td>Петрова</td>\n",
       "      <td>новая</td>\n",
       "      <td>оригинал</td>\n",
       "      <td>2021-07-26 00:00:00</td>\n",
       "    </tr>\n",
       "    <tr>\n",
       "      <th>3</th>\n",
       "      <td>15.0</td>\n",
       "      <td>13991.7</td>\n",
       "      <td>ОПЛАЧЕНО</td>\n",
       "      <td>Иванов</td>\n",
       "      <td>текущая</td>\n",
       "      <td>оригинал</td>\n",
       "      <td>2021-06-08 00:00:00</td>\n",
       "    </tr>\n",
       "    <tr>\n",
       "      <th>4</th>\n",
       "      <td>16.0</td>\n",
       "      <td>719.7</td>\n",
       "      <td>ОПЛАЧЕНО</td>\n",
       "      <td>Иванов</td>\n",
       "      <td>текущая</td>\n",
       "      <td>оригинал</td>\n",
       "      <td>2021-06-08 00:00:00</td>\n",
       "    </tr>\n",
       "  </tbody>\n",
       "</table>\n",
       "</div>"
      ],
      "text/plain": [
       "   client_id      sum      status     sale new/current  document  \\\n",
       "0        NaN      NaN    Май 2021      NaN         NaN       NaN   \n",
       "1        6.0  11693.7  ВНУТРЕННИЙ        -           -         -   \n",
       "2       14.0   5452.7    ОПЛАЧЕНО  Петрова       новая  оригинал   \n",
       "3       15.0  13991.7    ОПЛАЧЕНО   Иванов     текущая  оригинал   \n",
       "4       16.0    719.7    ОПЛАЧЕНО   Иванов     текущая  оригинал   \n",
       "\n",
       "        receiving_date  \n",
       "0                  NaN  \n",
       "1                    -  \n",
       "2  2021-07-26 00:00:00  \n",
       "3  2021-06-08 00:00:00  \n",
       "4  2021-06-08 00:00:00  "
      ]
     },
     "execution_count": 454,
     "metadata": {},
     "output_type": "execute_result"
    }
   ],
   "source": [
    "df.head()"
   ]
  },
  {
   "cell_type": "markdown",
   "id": "a630f836",
   "metadata": {},
   "source": [
    "Столбец Unnamed: 5 - не содержит данных и не вносит никакой информации, поэтому был удален"
   ]
  },
  {
   "cell_type": "markdown",
   "id": "a815570f",
   "metadata": {},
   "source": [
    "#### Добавление столбца с месяцем"
   ]
  },
  {
   "cell_type": "markdown",
   "id": "fcb479c0",
   "metadata": {},
   "source": [
    "На данном этапе дата фрейм непригоден для дальнейшего анализа, так как разбиение по месяцам проводилось внутри столбца status"
   ]
  },
  {
   "cell_type": "markdown",
   "id": "adf31f5b",
   "metadata": {},
   "source": [
    "Рассмотрим уникальные значения столбца status"
   ]
  },
  {
   "cell_type": "code",
   "execution_count": 455,
   "id": "1a23f172",
   "metadata": {
    "scrolled": true
   },
   "outputs": [
    {
     "data": {
      "text/plain": [
       "array(['Май 2021', 'ВНУТРЕННИЙ', 'ОПЛАЧЕНО', 'ПРОСРОЧЕНО', 'Июнь 2021',\n",
       "       'Июль 2021', 'Август 2021', 'В РАБОТЕ', 'Сентябрь 2021',\n",
       "       'Октябрь 2021', 'НА ПОДПИСАНИИ'], dtype=object)"
      ]
     },
     "execution_count": 455,
     "metadata": {},
     "output_type": "execute_result"
    }
   ],
   "source": [
    "df['status'].unique()"
   ]
  },
  {
   "cell_type": "markdown",
   "id": "b7757175",
   "metadata": {},
   "source": [
    "Создадим резервную копию дата фрейма, в дальнейшем будем работать с ней"
   ]
  },
  {
   "cell_type": "code",
   "execution_count": 456,
   "id": "d3cadced",
   "metadata": {},
   "outputs": [],
   "source": [
    "df1 = df.copy()"
   ]
  },
  {
   "cell_type": "markdown",
   "id": "9d64404c",
   "metadata": {},
   "source": [
    "Добавляем новый столбец month с пустыми значениями"
   ]
  },
  {
   "cell_type": "code",
   "execution_count": 457,
   "id": "5dee4d8d",
   "metadata": {
    "scrolled": true
   },
   "outputs": [
    {
     "name": "stderr",
     "output_type": "stream",
     "text": [
      "C:\\Users\\dyha3\\AppData\\Local\\Temp\\ipykernel_7368\\459025116.py:1: FutureWarning:\n",
      "\n",
      "The default dtype for empty Series will be 'object' instead of 'float64' in a future version. Specify a dtype explicitly to silence this warning.\n",
      "\n"
     ]
    }
   ],
   "source": [
    "df1 = df1.assign(month=pd.Series(index=df1.index).values)"
   ]
  },
  {
   "cell_type": "markdown",
   "id": "b472aec6",
   "metadata": {},
   "source": [
    "Создаем функцию, которая добавляет в новый столбец месяц и год, указанный в столбце status:"
   ]
  },
  {
   "cell_type": "code",
   "execution_count": 458,
   "id": "1cc53b57",
   "metadata": {},
   "outputs": [],
   "source": [
    "def funk1(df):\n",
    "    arr = df['status'].unique()\n",
    "    arr_month = np.array([x for x in arr if '2021' in x])\n",
    "    for index, row in df.iterrows():\n",
    "        if len(arr_month) > 1:\n",
    "            if df.loc[index, 'status'] == arr_month[1]:\n",
    "                arr_month = np.delete(arr_month, 0)  \n",
    "            df.loc[index, 'month'] = arr_month[0]\n",
    "        else:\n",
    "            df.loc[index, 'month'] = arr_month[-1]\n",
    "            \n",
    "                \n",
    "    return df\n"
   ]
  },
  {
   "cell_type": "code",
   "execution_count": 459,
   "id": "13849ec8",
   "metadata": {},
   "outputs": [],
   "source": [
    "df1 = funk1(df1)"
   ]
  },
  {
   "cell_type": "code",
   "execution_count": 460,
   "id": "69531f63",
   "metadata": {
    "scrolled": true
   },
   "outputs": [
    {
     "data": {
      "text/html": [
       "<div>\n",
       "<style scoped>\n",
       "    .dataframe tbody tr th:only-of-type {\n",
       "        vertical-align: middle;\n",
       "    }\n",
       "\n",
       "    .dataframe tbody tr th {\n",
       "        vertical-align: top;\n",
       "    }\n",
       "\n",
       "    .dataframe thead th {\n",
       "        text-align: right;\n",
       "    }\n",
       "</style>\n",
       "<table border=\"1\" class=\"dataframe\">\n",
       "  <thead>\n",
       "    <tr style=\"text-align: right;\">\n",
       "      <th></th>\n",
       "      <th>client_id</th>\n",
       "      <th>sum</th>\n",
       "      <th>status</th>\n",
       "      <th>sale</th>\n",
       "      <th>new/current</th>\n",
       "      <th>document</th>\n",
       "      <th>receiving_date</th>\n",
       "      <th>month</th>\n",
       "    </tr>\n",
       "  </thead>\n",
       "  <tbody>\n",
       "    <tr>\n",
       "      <th>0</th>\n",
       "      <td>NaN</td>\n",
       "      <td>NaN</td>\n",
       "      <td>Май 2021</td>\n",
       "      <td>NaN</td>\n",
       "      <td>NaN</td>\n",
       "      <td>NaN</td>\n",
       "      <td>NaN</td>\n",
       "      <td>Май 2021</td>\n",
       "    </tr>\n",
       "    <tr>\n",
       "      <th>1</th>\n",
       "      <td>6.0</td>\n",
       "      <td>11693.7</td>\n",
       "      <td>ВНУТРЕННИЙ</td>\n",
       "      <td>-</td>\n",
       "      <td>-</td>\n",
       "      <td>-</td>\n",
       "      <td>-</td>\n",
       "      <td>Май 2021</td>\n",
       "    </tr>\n",
       "    <tr>\n",
       "      <th>2</th>\n",
       "      <td>14.0</td>\n",
       "      <td>5452.7</td>\n",
       "      <td>ОПЛАЧЕНО</td>\n",
       "      <td>Петрова</td>\n",
       "      <td>новая</td>\n",
       "      <td>оригинал</td>\n",
       "      <td>2021-07-26 00:00:00</td>\n",
       "      <td>Май 2021</td>\n",
       "    </tr>\n",
       "    <tr>\n",
       "      <th>3</th>\n",
       "      <td>15.0</td>\n",
       "      <td>13991.7</td>\n",
       "      <td>ОПЛАЧЕНО</td>\n",
       "      <td>Иванов</td>\n",
       "      <td>текущая</td>\n",
       "      <td>оригинал</td>\n",
       "      <td>2021-06-08 00:00:00</td>\n",
       "      <td>Май 2021</td>\n",
       "    </tr>\n",
       "    <tr>\n",
       "      <th>4</th>\n",
       "      <td>16.0</td>\n",
       "      <td>719.7</td>\n",
       "      <td>ОПЛАЧЕНО</td>\n",
       "      <td>Иванов</td>\n",
       "      <td>текущая</td>\n",
       "      <td>оригинал</td>\n",
       "      <td>2021-06-08 00:00:00</td>\n",
       "      <td>Май 2021</td>\n",
       "    </tr>\n",
       "    <tr>\n",
       "      <th>...</th>\n",
       "      <td>...</td>\n",
       "      <td>...</td>\n",
       "      <td>...</td>\n",
       "      <td>...</td>\n",
       "      <td>...</td>\n",
       "      <td>...</td>\n",
       "      <td>...</td>\n",
       "      <td>...</td>\n",
       "    </tr>\n",
       "    <tr>\n",
       "      <th>725</th>\n",
       "      <td>285.0</td>\n",
       "      <td>4328.7</td>\n",
       "      <td>ОПЛАЧЕНО</td>\n",
       "      <td>Васильев</td>\n",
       "      <td>текущая</td>\n",
       "      <td>оригинал</td>\n",
       "      <td>2021-11-15 00:00:00</td>\n",
       "      <td>Октябрь 2021</td>\n",
       "    </tr>\n",
       "    <tr>\n",
       "      <th>726</th>\n",
       "      <td>360.0</td>\n",
       "      <td>3096.2</td>\n",
       "      <td>ОПЛАЧЕНО</td>\n",
       "      <td>Васильев</td>\n",
       "      <td>новая</td>\n",
       "      <td>НЕТ</td>\n",
       "      <td>NaN</td>\n",
       "      <td>Октябрь 2021</td>\n",
       "    </tr>\n",
       "    <tr>\n",
       "      <th>727</th>\n",
       "      <td>360.0</td>\n",
       "      <td>3096.2</td>\n",
       "      <td>ПРОСРОЧЕНО</td>\n",
       "      <td>Васильев</td>\n",
       "      <td>новая</td>\n",
       "      <td>НЕТ</td>\n",
       "      <td>NaN</td>\n",
       "      <td>Октябрь 2021</td>\n",
       "    </tr>\n",
       "    <tr>\n",
       "      <th>728</th>\n",
       "      <td>373.0</td>\n",
       "      <td>4403.7</td>\n",
       "      <td>ОПЛАЧЕНО</td>\n",
       "      <td>Михайлов</td>\n",
       "      <td>новая</td>\n",
       "      <td>оригинал</td>\n",
       "      <td>2021-11-08 00:00:00</td>\n",
       "      <td>Октябрь 2021</td>\n",
       "    </tr>\n",
       "    <tr>\n",
       "      <th>729</th>\n",
       "      <td>286.0</td>\n",
       "      <td>3978.7</td>\n",
       "      <td>ОПЛАЧЕНО</td>\n",
       "      <td>Филимонова</td>\n",
       "      <td>текущая</td>\n",
       "      <td>оригинал</td>\n",
       "      <td>2021-11-15 00:00:00</td>\n",
       "      <td>Октябрь 2021</td>\n",
       "    </tr>\n",
       "  </tbody>\n",
       "</table>\n",
       "<p>730 rows × 8 columns</p>\n",
       "</div>"
      ],
      "text/plain": [
       "     client_id      sum      status        sale new/current  document  \\\n",
       "0          NaN      NaN    Май 2021         NaN         NaN       NaN   \n",
       "1          6.0  11693.7  ВНУТРЕННИЙ           -           -         -   \n",
       "2         14.0   5452.7    ОПЛАЧЕНО     Петрова       новая  оригинал   \n",
       "3         15.0  13991.7    ОПЛАЧЕНО      Иванов     текущая  оригинал   \n",
       "4         16.0    719.7    ОПЛАЧЕНО      Иванов     текущая  оригинал   \n",
       "..         ...      ...         ...         ...         ...       ...   \n",
       "725      285.0   4328.7    ОПЛАЧЕНО    Васильев     текущая  оригинал   \n",
       "726      360.0   3096.2    ОПЛАЧЕНО    Васильев       новая       НЕТ   \n",
       "727      360.0   3096.2  ПРОСРОЧЕНО    Васильев       новая       НЕТ   \n",
       "728      373.0   4403.7    ОПЛАЧЕНО    Михайлов       новая  оригинал   \n",
       "729      286.0   3978.7    ОПЛАЧЕНО  Филимонова     текущая  оригинал   \n",
       "\n",
       "          receiving_date         month  \n",
       "0                    NaN      Май 2021  \n",
       "1                      -      Май 2021  \n",
       "2    2021-07-26 00:00:00      Май 2021  \n",
       "3    2021-06-08 00:00:00      Май 2021  \n",
       "4    2021-06-08 00:00:00      Май 2021  \n",
       "..                   ...           ...  \n",
       "725  2021-11-15 00:00:00  Октябрь 2021  \n",
       "726                  NaN  Октябрь 2021  \n",
       "727                  NaN  Октябрь 2021  \n",
       "728  2021-11-08 00:00:00  Октябрь 2021  \n",
       "729  2021-11-15 00:00:00  Октябрь 2021  \n",
       "\n",
       "[730 rows x 8 columns]"
      ]
     },
     "execution_count": 460,
     "metadata": {},
     "output_type": "execute_result"
    }
   ],
   "source": [
    "df1"
   ]
  },
  {
   "cell_type": "markdown",
   "id": "8533ac30",
   "metadata": {},
   "source": [
    "Теперь в столбце month добавлена информация о месяце"
   ]
  },
  {
   "cell_type": "markdown",
   "id": "6e523775",
   "metadata": {},
   "source": [
    "Далее необходимо избавиться от строк с разделением на месяцы в столбце status"
   ]
  },
  {
   "cell_type": "code",
   "execution_count": 461,
   "id": "2206e1b3",
   "metadata": {},
   "outputs": [],
   "source": [
    "arr = df1['status'].unique()\n",
    "\n",
    "arr_month = np.array([x for x in arr if '2021' in x])"
   ]
  },
  {
   "cell_type": "code",
   "execution_count": 462,
   "id": "9fd27bcf",
   "metadata": {
    "scrolled": false
   },
   "outputs": [
    {
     "data": {
      "text/plain": [
       "array(['Май 2021', 'Июнь 2021', 'Июль 2021', 'Август 2021',\n",
       "       'Сентябрь 2021', 'Октябрь 2021'], dtype='<U13')"
      ]
     },
     "execution_count": 462,
     "metadata": {},
     "output_type": "execute_result"
    }
   ],
   "source": [
    "arr_month"
   ]
  },
  {
   "cell_type": "code",
   "execution_count": 463,
   "id": "d3735f57",
   "metadata": {},
   "outputs": [
    {
     "data": {
      "text/plain": [
       "730"
      ]
     },
     "execution_count": 463,
     "metadata": {},
     "output_type": "execute_result"
    }
   ],
   "source": [
    "len(df1)"
   ]
  },
  {
   "cell_type": "code",
   "execution_count": 464,
   "id": "6bd65e81",
   "metadata": {},
   "outputs": [],
   "source": [
    "df1 = df1[~df1['status'].isin(arr_month)]"
   ]
  },
  {
   "cell_type": "code",
   "execution_count": 465,
   "id": "9b29b71d",
   "metadata": {
    "scrolled": true
   },
   "outputs": [
    {
     "data": {
      "text/plain": [
       "array(['ВНУТРЕННИЙ', 'ОПЛАЧЕНО', 'ПРОСРОЧЕНО', 'В РАБОТЕ',\n",
       "       'НА ПОДПИСАНИИ'], dtype=object)"
      ]
     },
     "execution_count": 465,
     "metadata": {},
     "output_type": "execute_result"
    }
   ],
   "source": [
    "df1['status'].unique()"
   ]
  },
  {
   "cell_type": "code",
   "execution_count": 466,
   "id": "3aa045ff",
   "metadata": {},
   "outputs": [
    {
     "data": {
      "text/plain": [
       "724"
      ]
     },
     "execution_count": 466,
     "metadata": {},
     "output_type": "execute_result"
    }
   ],
   "source": [
    "len(df1)"
   ]
  },
  {
   "cell_type": "markdown",
   "id": "fa891ffe",
   "metadata": {},
   "source": [
    "Можно заметить, что лишнего удалено не было"
   ]
  },
  {
   "cell_type": "markdown",
   "id": "4beef08e",
   "metadata": {},
   "source": [
    "### Изменение типов столбцов"
   ]
  },
  {
   "cell_type": "code",
   "execution_count": 467,
   "id": "1ce8d010",
   "metadata": {
    "scrolled": false
   },
   "outputs": [
    {
     "name": "stdout",
     "output_type": "stream",
     "text": [
      "<class 'pandas.core.frame.DataFrame'>\n",
      "Int64Index: 724 entries, 1 to 729\n",
      "Data columns (total 8 columns):\n",
      " #   Column          Non-Null Count  Dtype  \n",
      "---  ------          --------------  -----  \n",
      " 0   client_id       724 non-null    float64\n",
      " 1   sum             724 non-null    float64\n",
      " 2   status          724 non-null    object \n",
      " 3   sale            724 non-null    object \n",
      " 4   new/current     724 non-null    object \n",
      " 5   document        709 non-null    object \n",
      " 6   receiving_date  607 non-null    object \n",
      " 7   month           724 non-null    object \n",
      "dtypes: float64(2), object(6)\n",
      "memory usage: 50.9+ KB\n"
     ]
    }
   ],
   "source": [
    "df1.info()"
   ]
  },
  {
   "cell_type": "markdown",
   "id": "b1bfa288",
   "metadata": {},
   "source": [
    "Столбец receiving_date имеет тип object, необходимо преобразовать его в форматы даты"
   ]
  },
  {
   "cell_type": "code",
   "execution_count": 468,
   "id": "688738ac",
   "metadata": {},
   "outputs": [
    {
     "name": "stderr",
     "output_type": "stream",
     "text": [
      "C:\\Users\\dyha3\\AppData\\Local\\Temp\\ipykernel_7368\\2057951954.py:1: SettingWithCopyWarning:\n",
      "\n",
      "\n",
      "A value is trying to be set on a copy of a slice from a DataFrame.\n",
      "Try using .loc[row_indexer,col_indexer] = value instead\n",
      "\n",
      "See the caveats in the documentation: https://pandas.pydata.org/pandas-docs/stable/user_guide/indexing.html#returning-a-view-versus-a-copy\n",
      "\n"
     ]
    }
   ],
   "source": [
    "df1['receiving_date'] = df1['receiving_date'].replace('-', pd.NaT)"
   ]
  },
  {
   "cell_type": "markdown",
   "id": "a44b7fa7",
   "metadata": {},
   "source": [
    "### Проверка на дубликаты"
   ]
  },
  {
   "cell_type": "code",
   "execution_count": 469,
   "id": "31681f2d",
   "metadata": {
    "scrolled": false
   },
   "outputs": [
    {
     "data": {
      "text/plain": [
       "14"
      ]
     },
     "execution_count": 469,
     "metadata": {},
     "output_type": "execute_result"
    }
   ],
   "source": [
    "df1.duplicated().sum()"
   ]
  },
  {
   "cell_type": "markdown",
   "id": "d0a12a02",
   "metadata": {},
   "source": [
    "в данном дата-фрейме 14 полных дубликатов"
   ]
  },
  {
   "cell_type": "code",
   "execution_count": 470,
   "id": "9785aac8",
   "metadata": {},
   "outputs": [],
   "source": [
    "df1 = df1.drop_duplicates()"
   ]
  },
  {
   "cell_type": "markdown",
   "id": "22d4dc27",
   "metadata": {},
   "source": [
    "### Проверка на пропуски"
   ]
  },
  {
   "cell_type": "code",
   "execution_count": 471,
   "id": "77a8f98c",
   "metadata": {
    "scrolled": true
   },
   "outputs": [
    {
     "data": {
      "text/plain": [
       "client_id           0\n",
       "sum                 0\n",
       "status              0\n",
       "sale                0\n",
       "new/current         0\n",
       "document           15\n",
       "receiving_date    116\n",
       "month               0\n",
       "dtype: int64"
      ]
     },
     "execution_count": 471,
     "metadata": {},
     "output_type": "execute_result"
    }
   ],
   "source": [
    "df1.isna().sum()"
   ]
  },
  {
   "cell_type": "code",
   "execution_count": 472,
   "id": "4d88b9ae",
   "metadata": {},
   "outputs": [
    {
     "data": {
      "text/plain": [
       "0.18450704225352113"
      ]
     },
     "execution_count": 472,
     "metadata": {},
     "output_type": "execute_result"
    }
   ],
   "source": [
    "df1.isna().sum().sum()/len(df1)"
   ]
  },
  {
   "cell_type": "markdown",
   "id": "995ca2b3",
   "metadata": {},
   "source": [
    "Можно увидеть, что в  столбцах document и receiving_date содержатся пропуски. Оставим строки с пропусками, их удаление приведет к потере большого кол-ва данных (около 19%)"
   ]
  },
  {
   "cell_type": "markdown",
   "id": "d9cf3717",
   "metadata": {},
   "source": [
    "#### Вывод по предобработке данных"
   ]
  },
  {
   "cell_type": "markdown",
   "id": "ff67132e",
   "metadata": {},
   "source": [
    "В результате предобработки:\n",
    "- Удалён пустой столбец\n",
    "- Добавлен новый столбец, показывающий разделение дата-фрейма по месяцам\n",
    "- Строки разделители были удалены\n",
    "- Изменен тип данных на дату столбца receiving_date\n",
    "- Удалены дубликаты\n",
    "- Произведена проверка на пустные значения"
   ]
  },
  {
   "cell_type": "markdown",
   "id": "4dde4b41",
   "metadata": {},
   "source": [
    "### Вопросы:"
   ]
  },
  {
   "cell_type": "markdown",
   "id": "39cffded",
   "metadata": {},
   "source": [
    "#### Вычислите общую выручку за июль 2021 по тем сделкам, приход денежных средств которых не просрочен."
   ]
  },
  {
   "cell_type": "code",
   "execution_count": 473,
   "id": "5fb47cc4",
   "metadata": {
    "scrolled": false
   },
   "outputs": [
    {
     "data": {
      "text/html": [
       "<div>\n",
       "<style scoped>\n",
       "    .dataframe tbody tr th:only-of-type {\n",
       "        vertical-align: middle;\n",
       "    }\n",
       "\n",
       "    .dataframe tbody tr th {\n",
       "        vertical-align: top;\n",
       "    }\n",
       "\n",
       "    .dataframe thead th {\n",
       "        text-align: right;\n",
       "    }\n",
       "</style>\n",
       "<table border=\"1\" class=\"dataframe\">\n",
       "  <thead>\n",
       "    <tr style=\"text-align: right;\">\n",
       "      <th></th>\n",
       "      <th>client_id</th>\n",
       "      <th>sum</th>\n",
       "      <th>status</th>\n",
       "      <th>sale</th>\n",
       "      <th>new/current</th>\n",
       "      <th>document</th>\n",
       "      <th>receiving_date</th>\n",
       "      <th>month</th>\n",
       "    </tr>\n",
       "  </thead>\n",
       "  <tbody>\n",
       "    <tr>\n",
       "      <th>1</th>\n",
       "      <td>6.0</td>\n",
       "      <td>11693.7</td>\n",
       "      <td>ВНУТРЕННИЙ</td>\n",
       "      <td>-</td>\n",
       "      <td>-</td>\n",
       "      <td>-</td>\n",
       "      <td>NaT</td>\n",
       "      <td>Май 2021</td>\n",
       "    </tr>\n",
       "    <tr>\n",
       "      <th>2</th>\n",
       "      <td>14.0</td>\n",
       "      <td>5452.7</td>\n",
       "      <td>ОПЛАЧЕНО</td>\n",
       "      <td>Петрова</td>\n",
       "      <td>новая</td>\n",
       "      <td>оригинал</td>\n",
       "      <td>2021-07-26</td>\n",
       "      <td>Май 2021</td>\n",
       "    </tr>\n",
       "  </tbody>\n",
       "</table>\n",
       "</div>"
      ],
      "text/plain": [
       "   client_id      sum      status     sale new/current  document  \\\n",
       "1        6.0  11693.7  ВНУТРЕННИЙ        -           -         -   \n",
       "2       14.0   5452.7    ОПЛАЧЕНО  Петрова       новая  оригинал   \n",
       "\n",
       "  receiving_date     month  \n",
       "1            NaT  Май 2021  \n",
       "2     2021-07-26  Май 2021  "
      ]
     },
     "execution_count": 473,
     "metadata": {},
     "output_type": "execute_result"
    }
   ],
   "source": [
    "df1.head(2)"
   ]
  },
  {
   "cell_type": "code",
   "execution_count": 474,
   "id": "402950a4",
   "metadata": {},
   "outputs": [
    {
     "data": {
      "text/plain": [
       "array(['ВНУТРЕННИЙ', 'ОПЛАЧЕНО', 'ПРОСРОЧЕНО', 'В РАБОТЕ',\n",
       "       'НА ПОДПИСАНИИ'], dtype=object)"
      ]
     },
     "execution_count": 474,
     "metadata": {},
     "output_type": "execute_result"
    }
   ],
   "source": [
    "df1['status'].unique()"
   ]
  },
  {
   "cell_type": "code",
   "execution_count": 475,
   "id": "7eed9a50",
   "metadata": {
    "scrolled": true
   },
   "outputs": [
    {
     "data": {
      "text/plain": [
       "852012.87"
      ]
     },
     "execution_count": 475,
     "metadata": {},
     "output_type": "execute_result"
    }
   ],
   "source": [
    "round(df1[~(df1['status'] == 'ПРОСРОЧЕНО') & (df1['month'] == 'Июль 2021')]['sum'].sum(), 2)"
   ]
  },
  {
   "cell_type": "markdown",
   "id": "a5883448",
   "metadata": {},
   "source": [
    "Общая выручка за июль 2021 составила **852012.87** денежных едениц"
   ]
  },
  {
   "cell_type": "markdown",
   "id": "de09a30c",
   "metadata": {},
   "source": [
    "#### Как изменялась выручка компании за рассматриваемый период? Проиллюстрируйте графиком."
   ]
  },
  {
   "cell_type": "code",
   "execution_count": 476,
   "id": "41535a25",
   "metadata": {},
   "outputs": [],
   "source": [
    "revenue = df1.groupby('month').agg({'sum':'sum'}).reset_index()"
   ]
  },
  {
   "cell_type": "code",
   "execution_count": 477,
   "id": "38dffa69",
   "metadata": {},
   "outputs": [],
   "source": [
    "month_order = {\n",
    "    'Январь 2021': 1, 'Февраль 2021': 2, 'Март 2021': 3, 'Апрель 2021': 4, 'Май 2021': 5, 'Июнь 2021': 6,\n",
    "    'Июль 2021': 7, 'Август 2021': 8, 'Сентябрь 2021': 9, 'Октябрь 2021': 10, 'Ноябрь 2021': 11, 'Декабрь 2021': 12\n",
    "}\n",
    "\n",
    "revenue['month_order'] = revenue['month'].map(month_order)\n",
    "revenue = revenue.sort_values('month_order')\n",
    "\n",
    "revenue['month'] = revenue['month'].str.split(' ').str[0]"
   ]
  },
  {
   "cell_type": "code",
   "execution_count": 478,
   "id": "35c3fa2d",
   "metadata": {
    "scrolled": true
   },
   "outputs": [
    {
     "data": {
      "text/html": [
       "<div>\n",
       "<style scoped>\n",
       "    .dataframe tbody tr th:only-of-type {\n",
       "        vertical-align: middle;\n",
       "    }\n",
       "\n",
       "    .dataframe tbody tr th {\n",
       "        vertical-align: top;\n",
       "    }\n",
       "\n",
       "    .dataframe thead th {\n",
       "        text-align: right;\n",
       "    }\n",
       "</style>\n",
       "<table border=\"1\" class=\"dataframe\">\n",
       "  <thead>\n",
       "    <tr style=\"text-align: right;\">\n",
       "      <th></th>\n",
       "      <th>month</th>\n",
       "      <th>sum</th>\n",
       "      <th>month_order</th>\n",
       "    </tr>\n",
       "  </thead>\n",
       "  <tbody>\n",
       "    <tr>\n",
       "      <th>3</th>\n",
       "      <td>Май</td>\n",
       "      <td>804871.09</td>\n",
       "      <td>5</td>\n",
       "    </tr>\n",
       "    <tr>\n",
       "      <th>2</th>\n",
       "      <td>Июнь</td>\n",
       "      <td>807236.21</td>\n",
       "      <td>6</td>\n",
       "    </tr>\n",
       "    <tr>\n",
       "      <th>1</th>\n",
       "      <td>Июль</td>\n",
       "      <td>853990.57</td>\n",
       "      <td>7</td>\n",
       "    </tr>\n",
       "    <tr>\n",
       "      <th>0</th>\n",
       "      <td>Август</td>\n",
       "      <td>844263.39</td>\n",
       "      <td>8</td>\n",
       "    </tr>\n",
       "    <tr>\n",
       "      <th>5</th>\n",
       "      <td>Сентябрь</td>\n",
       "      <td>818523.88</td>\n",
       "      <td>9</td>\n",
       "    </tr>\n",
       "    <tr>\n",
       "      <th>4</th>\n",
       "      <td>Октябрь</td>\n",
       "      <td>1001063.49</td>\n",
       "      <td>10</td>\n",
       "    </tr>\n",
       "  </tbody>\n",
       "</table>\n",
       "</div>"
      ],
      "text/plain": [
       "      month         sum  month_order\n",
       "3       Май   804871.09            5\n",
       "2      Июнь   807236.21            6\n",
       "1      Июль   853990.57            7\n",
       "0    Август   844263.39            8\n",
       "5  Сентябрь   818523.88            9\n",
       "4   Октябрь  1001063.49           10"
      ]
     },
     "execution_count": 478,
     "metadata": {},
     "output_type": "execute_result"
    }
   ],
   "source": [
    "revenue"
   ]
  },
  {
   "cell_type": "code",
   "execution_count": 479,
   "id": "ea3f7647",
   "metadata": {
    "scrolled": false
   },
   "outputs": [
    {
     "data": {
      "image/png": "[encoded data removed]",
      "text/plain": [
       "<Figure size 1000x600 with 1 Axes>"
      ]
     },
     "metadata": {},
     "output_type": "display_data"
    }
   ],
   "source": [
    "plt.figure(figsize=(10, 6))\n",
    "sns.lineplot(data=revenue, x='month', y='sum', marker='o', palette='pastel')\n",
    "\n",
    "plt.xlabel('Месяц')\n",
    "plt.ylabel('Выручка')\n",
    "plt.title('Изменение выручки по месяцам в 2021 году')\n",
    "\n",
    "plt.show()"
   ]
  },
  {
   "cell_type": "code",
   "execution_count": 480,
   "id": "cb8104ff",
   "metadata": {
    "scrolled": false
   },
   "outputs": [
    {
     "data": {
      "text/plain": [
       "array([1.22301073])"
      ]
     },
     "execution_count": 480,
     "metadata": {},
     "output_type": "execute_result"
    }
   ],
   "source": [
    "revenue[revenue['month'] == 'Октябрь']['sum'].values / revenue[revenue['month'] == 'Сентябрь']['sum'].values"
   ]
  },
  {
   "cell_type": "markdown",
   "id": "d5cbb9f4",
   "metadata": {},
   "source": [
    "По графику можно сделать вывод, что с мая по июль выручка росла, в августе и сентябре выручка снизилась в равлении с июлем, в октябре виден скачок получения выручки (на 22% больше чем в сентябре) "
   ]
  },
  {
   "cell_type": "markdown",
   "id": "0d438ddd",
   "metadata": {},
   "source": [
    "#### Кто из менеджеров привлек для компании больше всего денежных средств в сентябре 2021?"
   ]
  },
  {
   "cell_type": "code",
   "execution_count": 481,
   "id": "647c5ed1",
   "metadata": {},
   "outputs": [
    {
     "data": {
      "text/html": [
       "<div>\n",
       "<style scoped>\n",
       "    .dataframe tbody tr th:only-of-type {\n",
       "        vertical-align: middle;\n",
       "    }\n",
       "\n",
       "    .dataframe tbody tr th {\n",
       "        vertical-align: top;\n",
       "    }\n",
       "\n",
       "    .dataframe thead th {\n",
       "        text-align: right;\n",
       "    }\n",
       "</style>\n",
       "<table border=\"1\" class=\"dataframe\">\n",
       "  <thead>\n",
       "    <tr style=\"text-align: right;\">\n",
       "      <th></th>\n",
       "      <th>sale</th>\n",
       "      <th>sum</th>\n",
       "      <th>%</th>\n",
       "    </tr>\n",
       "  </thead>\n",
       "  <tbody>\n",
       "    <tr>\n",
       "      <th>6</th>\n",
       "      <td>Смирнов</td>\n",
       "      <td>220672.00</td>\n",
       "      <td>26.96</td>\n",
       "    </tr>\n",
       "    <tr>\n",
       "      <th>5</th>\n",
       "      <td>Петрова</td>\n",
       "      <td>149344.46</td>\n",
       "      <td>18.25</td>\n",
       "    </tr>\n",
       "    <tr>\n",
       "      <th>0</th>\n",
       "      <td>Андреев</td>\n",
       "      <td>132646.30</td>\n",
       "      <td>16.21</td>\n",
       "    </tr>\n",
       "    <tr>\n",
       "      <th>2</th>\n",
       "      <td>Иванов</td>\n",
       "      <td>94770.60</td>\n",
       "      <td>11.58</td>\n",
       "    </tr>\n",
       "    <tr>\n",
       "      <th>3</th>\n",
       "      <td>Кузнецова</td>\n",
       "      <td>72228.40</td>\n",
       "      <td>8.82</td>\n",
       "    </tr>\n",
       "    <tr>\n",
       "      <th>8</th>\n",
       "      <td>Филимонова</td>\n",
       "      <td>59514.47</td>\n",
       "      <td>7.27</td>\n",
       "    </tr>\n",
       "    <tr>\n",
       "      <th>1</th>\n",
       "      <td>Васильев</td>\n",
       "      <td>49895.45</td>\n",
       "      <td>6.10</td>\n",
       "    </tr>\n",
       "    <tr>\n",
       "      <th>7</th>\n",
       "      <td>Соколов</td>\n",
       "      <td>35183.50</td>\n",
       "      <td>4.30</td>\n",
       "    </tr>\n",
       "    <tr>\n",
       "      <th>4</th>\n",
       "      <td>Михайлов</td>\n",
       "      <td>4268.70</td>\n",
       "      <td>0.52</td>\n",
       "    </tr>\n",
       "  </tbody>\n",
       "</table>\n",
       "</div>"
      ],
      "text/plain": [
       "         sale        sum      %\n",
       "6     Смирнов  220672.00  26.96\n",
       "5     Петрова  149344.46  18.25\n",
       "0     Андреев  132646.30  16.21\n",
       "2      Иванов   94770.60  11.58\n",
       "3   Кузнецова   72228.40   8.82\n",
       "8  Филимонова   59514.47   7.27\n",
       "1    Васильев   49895.45   6.10\n",
       "7     Соколов   35183.50   4.30\n",
       "4    Михайлов    4268.70   0.52"
      ]
     },
     "execution_count": 481,
     "metadata": {},
     "output_type": "execute_result"
    }
   ],
   "source": [
    "top_manager = df1[df1['month'] == 'Сентябрь 2021']\n",
    "top_manager = top_manager.groupby('sale').agg({'sum':'sum'}).reset_index().sort_values(by='sum', ascending=False)\n",
    "top_manager['full'] = top_manager['sum'].sum().sum()\n",
    "top_manager['%'] = round(top_manager['sum'] / top_manager['full'] * 100,2)\n",
    "top_manager = top_manager[['sale', 'sum', '%']]\n",
    "top_manager"
   ]
  },
  {
   "cell_type": "code",
   "execution_count": 482,
   "id": "3bf0169d",
   "metadata": {
    "scrolled": true
   },
   "outputs": [
    {
     "data": {
      "image/png": "[encoded data removed]",
      "text/plain": [
       "<Figure size 1200x600 with 2 Axes>"
      ]
     },
     "metadata": {},
     "output_type": "display_data"
    }
   ],
   "source": [
    "fig, axes = plt.subplots(1, 2, figsize=(12, 6))\n",
    "\n",
    "sns.barplot(y='sum', x='sale', data=top_manager, ax=axes[0], palette='pastel')\n",
    "\n",
    "axes[0].set_title('В денежных еденица')\n",
    "axes[0].set_xlabel('Менеджер')\n",
    "axes[0].set_ylabel('Сумма выручки')\n",
    "axes[0].tick_params(axis='x', rotation=45)\n",
    "\n",
    "top_manager['sum'].plot(kind='pie', autopct='%1.1f%%', labels=top_manager['sale'], ax=axes[1], colors=sns.color_palette('pastel'))\n",
    "axes[1].set_title('В процентах')\n",
    "axes[1].set_ylabel('')\n",
    "\n",
    "\n",
    "fig.suptitle('Выручка от каждого менеджера за сентябрь', fontsize=16)\n",
    "\n",
    "plt.show()"
   ]
  },
  {
   "cell_type": "markdown",
   "id": "97b96968",
   "metadata": {},
   "source": [
    "По графикам можно сделать вывод, что больше всего выручки в сентябре принес менеджер **Смирнов (220672 ед. или 27%)**, а также Петрова (149344 ед. или 18.2%) и Андреев (132646 ед. или 16.2%)"
   ]
  },
  {
   "cell_type": "markdown",
   "id": "714e8085",
   "metadata": {},
   "source": [
    "#### Какой тип сделок (новая/текущая) был преобладающим в октябре 2021?"
   ]
  },
  {
   "cell_type": "code",
   "execution_count": 483,
   "id": "9613f3b2",
   "metadata": {},
   "outputs": [],
   "source": [
    "deal_type_october = df1[df1['month'] == 'Октябрь 2021']\n",
    "deal_type_october = deal_type_october.groupby('new/current') \\\n",
    "                                     .agg({'client_id':'count'}) \\\n",
    "                                     .reset_index() \\\n",
    "                                     .rename(columns={'new/current':'type', 'client_id':'count'}) \\\n",
    "                                     .sort_values(by='count', ascending=False) "
   ]
  },
  {
   "cell_type": "code",
   "execution_count": 484,
   "id": "76b02f33",
   "metadata": {
    "scrolled": false
   },
   "outputs": [
    {
     "data": {
      "text/html": [
       "<div>\n",
       "<style scoped>\n",
       "    .dataframe tbody tr th:only-of-type {\n",
       "        vertical-align: middle;\n",
       "    }\n",
       "\n",
       "    .dataframe tbody tr th {\n",
       "        vertical-align: top;\n",
       "    }\n",
       "\n",
       "    .dataframe thead th {\n",
       "        text-align: right;\n",
       "    }\n",
       "</style>\n",
       "<table border=\"1\" class=\"dataframe\">\n",
       "  <thead>\n",
       "    <tr style=\"text-align: right;\">\n",
       "      <th></th>\n",
       "      <th>type</th>\n",
       "      <th>count</th>\n",
       "    </tr>\n",
       "  </thead>\n",
       "  <tbody>\n",
       "    <tr>\n",
       "      <th>1</th>\n",
       "      <td>текущая</td>\n",
       "      <td>98</td>\n",
       "    </tr>\n",
       "    <tr>\n",
       "      <th>0</th>\n",
       "      <td>новая</td>\n",
       "      <td>35</td>\n",
       "    </tr>\n",
       "  </tbody>\n",
       "</table>\n",
       "</div>"
      ],
      "text/plain": [
       "      type  count\n",
       "1  текущая     98\n",
       "0    новая     35"
      ]
     },
     "execution_count": 484,
     "metadata": {},
     "output_type": "execute_result"
    }
   ],
   "source": [
    "deal_type_october"
   ]
  },
  {
   "cell_type": "code",
   "execution_count": 485,
   "id": "149f6284",
   "metadata": {
    "scrolled": true
   },
   "outputs": [
    {
     "data": {
      "image/png": "[encoded data removed]",
      "text/plain": [
       "<Figure size 640x480 with 1 Axes>"
      ]
     },
     "metadata": {},
     "output_type": "display_data"
    }
   ],
   "source": [
    "deal_type_october['count'].plot(kind='pie', autopct='%1.1f%%', labels=deal_type_october['type'], colors=sns.color_palette('pastel'))\n",
    "plt.title('Распределение по типу сделки в октябре 2021')\n",
    "plt.ylabel('')\n",
    "plt.xlabel('');"
   ]
  },
  {
   "cell_type": "markdown",
   "id": "7e9e4557",
   "metadata": {},
   "source": [
    "**В октябре преобладающий тип сделок - \"текущая\" (73.7%)** "
   ]
  },
  {
   "cell_type": "markdown",
   "id": "aef2510f",
   "metadata": {},
   "source": [
    "#### Сколько оригиналов договора по майским сделкам было получено в июне 2021?"
   ]
  },
  {
   "cell_type": "code",
   "execution_count": 486,
   "id": "fc738bf0",
   "metadata": {
    "scrolled": true
   },
   "outputs": [
    {
     "data": {
      "text/plain": [
       "76"
      ]
     },
     "execution_count": 486,
     "metadata": {},
     "output_type": "execute_result"
    }
   ],
   "source": [
    "may_origs_in_june = df1[df1['month'] == 'Май 2021']\n",
    "may_origs_in_june = may_origs_in_june[may_origs_in_june['document'] == 'оригинал']\n",
    "may_origs_in_june[(may_origs_in_june['receiving_date'] >= '2021-06-01') & (may_origs_in_june['receiving_date'] < '2021-07-01')]['client_id'].count()"
   ]
  },
  {
   "cell_type": "markdown",
   "id": "d305a01b",
   "metadata": {},
   "source": [
    "**76 оригиналов договора по майским сделкам было получено в июне 2021**"
   ]
  },
  {
   "cell_type": "markdown",
   "id": "de52d967",
   "metadata": {},
   "source": [
    "#### Выводы:\n",
    "- Общая выручка за июль 2021 составила 852012.87 денежных едениц\n",
    "- C мая по июль выручка росла, в августе и сентябре выручка снизилась в равлении с июлем, в октябре виден скачок получения выручки (на 22% больше чем в сентябре)\n",
    "- Больше всего выручки в сентябре принес менеджер Смирнов (220672 ед. или 27%)\n",
    "- В октябре преобладающий тип сделок - \"текущая\" (73.7%)\n",
    "- 76 оригиналов договора по майским сделкам было получено в июне 2021"
   ]
  },
  {
   "cell_type": "markdown",
   "id": "4f489cc6",
   "metadata": {},
   "source": [
    "### Задание:"
   ]
  },
  {
   "cell_type": "markdown",
   "id": "e4f89ae3",
   "metadata": {},
   "source": [
    "За каждую заключенную сделку менеджер получает бонус, который рассчитывается\n",
    "следующим образом.\n",
    "\n",
    "\n",
    "1) За новые сделки менеджер получает 7 % от суммы, при условии, что статус оплаты «ОПЛАЧЕНО», а также имеется оригинал подписанного договора с клиентом (в рассматриваемом месяце).\n",
    "\n",
    "2) За текущие сделки менеджер получает 5 % от суммы, если она больше 10 тыс., и 3 % от суммы, если меньше. При этом статус оплаты может быть любым, кроме «ПРОСРОЧЕНО», а также необходимо наличие оригинала подписанного договора с клиентом (в рассматриваемом месяце).\n",
    "\n",
    "\n",
    "Бонусы по сделкам, оригиналы для которых приходят позже рассматриваемого\n",
    "месяца, считаются остатком на следующий период, который выплачивается по мере\n",
    "прихода оригиналов. Вычислите остаток каждого из менеджеров на 01.07.2021."
   ]
  },
  {
   "cell_type": "code",
   "execution_count": 487,
   "id": "774b06c1",
   "metadata": {},
   "outputs": [],
   "source": [
    "bonus = df1[df1['month'].isin(np.array(['Май 2021', 'Июнь 2021']))]"
   ]
  },
  {
   "cell_type": "code",
   "execution_count": 488,
   "id": "d745cce7",
   "metadata": {},
   "outputs": [],
   "source": [
    "bonus1 = bonus[(bonus['new/current'] == 'новая') & (bonus['status'] == 'ОПЛАЧЕНО') & (bonus['document'] == 'оригинал') & (bonus['receiving_date'] < '2021-07-01')]"
   ]
  },
  {
   "cell_type": "code",
   "execution_count": 489,
   "id": "287e432b",
   "metadata": {},
   "outputs": [
    {
     "data": {
      "text/html": [
       "<div>\n",
       "<style scoped>\n",
       "    .dataframe tbody tr th:only-of-type {\n",
       "        vertical-align: middle;\n",
       "    }\n",
       "\n",
       "    .dataframe tbody tr th {\n",
       "        vertical-align: top;\n",
       "    }\n",
       "\n",
       "    .dataframe thead th {\n",
       "        text-align: right;\n",
       "    }\n",
       "</style>\n",
       "<table border=\"1\" class=\"dataframe\">\n",
       "  <thead>\n",
       "    <tr style=\"text-align: right;\">\n",
       "      <th></th>\n",
       "      <th>sale</th>\n",
       "      <th>bonus</th>\n",
       "    </tr>\n",
       "  </thead>\n",
       "  <tbody>\n",
       "    <tr>\n",
       "      <th>0</th>\n",
       "      <td>Андреев</td>\n",
       "      <td>1144.3390</td>\n",
       "    </tr>\n",
       "    <tr>\n",
       "      <th>1</th>\n",
       "      <td>Васильев</td>\n",
       "      <td>35.2590</td>\n",
       "    </tr>\n",
       "    <tr>\n",
       "      <th>2</th>\n",
       "      <td>Кузнецова</td>\n",
       "      <td>424.1321</td>\n",
       "    </tr>\n",
       "    <tr>\n",
       "      <th>3</th>\n",
       "      <td>Петрова</td>\n",
       "      <td>770.2590</td>\n",
       "    </tr>\n",
       "  </tbody>\n",
       "</table>\n",
       "</div>"
      ],
      "text/plain": [
       "        sale      bonus\n",
       "0    Андреев  1144.3390\n",
       "1   Васильев    35.2590\n",
       "2  Кузнецова   424.1321\n",
       "3    Петрова   770.2590"
      ]
     },
     "execution_count": 489,
     "metadata": {},
     "output_type": "execute_result"
    }
   ],
   "source": [
    "bonus1 = bonus1.groupby('sale').agg({'sum':'sum'}).reset_index().rename(columns={'sum':'bonus'})\n",
    "bonus1['bonus'] = bonus1['bonus'] * 0.07\n",
    "bonus1"
   ]
  },
  {
   "cell_type": "code",
   "execution_count": 490,
   "id": "82a70144",
   "metadata": {
    "scrolled": true
   },
   "outputs": [],
   "source": [
    "bonus21 = bonus[(bonus['new/current'] == 'текущая') & (bonus['sum'] >= 10000) & (bonus['status'] != 'ПРОСРОЧЕНО') & (bonus['document'] == 'оригинал') & (bonus['receiving_date'] < '2021-07-01')]"
   ]
  },
  {
   "cell_type": "code",
   "execution_count": 491,
   "id": "8a35b5a0",
   "metadata": {},
   "outputs": [
    {
     "data": {
      "text/html": [
       "<div>\n",
       "<style scoped>\n",
       "    .dataframe tbody tr th:only-of-type {\n",
       "        vertical-align: middle;\n",
       "    }\n",
       "\n",
       "    .dataframe tbody tr th {\n",
       "        vertical-align: top;\n",
       "    }\n",
       "\n",
       "    .dataframe thead th {\n",
       "        text-align: right;\n",
       "    }\n",
       "</style>\n",
       "<table border=\"1\" class=\"dataframe\">\n",
       "  <thead>\n",
       "    <tr style=\"text-align: right;\">\n",
       "      <th></th>\n",
       "      <th>sale</th>\n",
       "      <th>bonus</th>\n",
       "    </tr>\n",
       "  </thead>\n",
       "  <tbody>\n",
       "    <tr>\n",
       "      <th>0</th>\n",
       "      <td>Андреев</td>\n",
       "      <td>2804.280</td>\n",
       "    </tr>\n",
       "    <tr>\n",
       "      <th>1</th>\n",
       "      <td>Иванов</td>\n",
       "      <td>1951.305</td>\n",
       "    </tr>\n",
       "    <tr>\n",
       "      <th>2</th>\n",
       "      <td>Петрова</td>\n",
       "      <td>3744.000</td>\n",
       "    </tr>\n",
       "    <tr>\n",
       "      <th>3</th>\n",
       "      <td>Смирнов</td>\n",
       "      <td>3389.480</td>\n",
       "    </tr>\n",
       "  </tbody>\n",
       "</table>\n",
       "</div>"
      ],
      "text/plain": [
       "      sale     bonus\n",
       "0  Андреев  2804.280\n",
       "1   Иванов  1951.305\n",
       "2  Петрова  3744.000\n",
       "3  Смирнов  3389.480"
      ]
     },
     "execution_count": 491,
     "metadata": {},
     "output_type": "execute_result"
    }
   ],
   "source": [
    "bonus21 = bonus21.groupby('sale').agg({'sum':'sum'}).reset_index().rename(columns={'sum':'bonus'})\n",
    "bonus21['bonus'] = bonus21['bonus'] * 0.05\n",
    "bonus21"
   ]
  },
  {
   "cell_type": "code",
   "execution_count": 492,
   "id": "4b4d2e8c",
   "metadata": {},
   "outputs": [],
   "source": [
    "bonus22 = bonus[(bonus['new/current'] == 'текущая') & (bonus['sum'] < 10000) & (bonus['status'] != 'ПРОСРОЧЕНО') & (bonus['document'] == 'оригинал') & (bonus['receiving_date'] < '2021-07-01')]"
   ]
  },
  {
   "cell_type": "code",
   "execution_count": 493,
   "id": "08c121d2",
   "metadata": {},
   "outputs": [
    {
     "data": {
      "text/html": [
       "<div>\n",
       "<style scoped>\n",
       "    .dataframe tbody tr th:only-of-type {\n",
       "        vertical-align: middle;\n",
       "    }\n",
       "\n",
       "    .dataframe tbody tr th {\n",
       "        vertical-align: top;\n",
       "    }\n",
       "\n",
       "    .dataframe thead th {\n",
       "        text-align: right;\n",
       "    }\n",
       "</style>\n",
       "<table border=\"1\" class=\"dataframe\">\n",
       "  <thead>\n",
       "    <tr style=\"text-align: right;\">\n",
       "      <th></th>\n",
       "      <th>sale</th>\n",
       "      <th>bonus</th>\n",
       "    </tr>\n",
       "  </thead>\n",
       "  <tbody>\n",
       "    <tr>\n",
       "      <th>0</th>\n",
       "      <td>Андреев</td>\n",
       "      <td>1415.9745</td>\n",
       "    </tr>\n",
       "    <tr>\n",
       "      <th>1</th>\n",
       "      <td>Васильев</td>\n",
       "      <td>506.6200</td>\n",
       "    </tr>\n",
       "    <tr>\n",
       "      <th>2</th>\n",
       "      <td>Иванов</td>\n",
       "      <td>920.8900</td>\n",
       "    </tr>\n",
       "    <tr>\n",
       "      <th>3</th>\n",
       "      <td>Кузнецова</td>\n",
       "      <td>3634.2325</td>\n",
       "    </tr>\n",
       "    <tr>\n",
       "      <th>4</th>\n",
       "      <td>Петрова</td>\n",
       "      <td>4190.9050</td>\n",
       "    </tr>\n",
       "    <tr>\n",
       "      <th>5</th>\n",
       "      <td>Селиванов</td>\n",
       "      <td>588.8700</td>\n",
       "    </tr>\n",
       "    <tr>\n",
       "      <th>6</th>\n",
       "      <td>Смирнов</td>\n",
       "      <td>1148.7400</td>\n",
       "    </tr>\n",
       "    <tr>\n",
       "      <th>7</th>\n",
       "      <td>Филимонова</td>\n",
       "      <td>682.8050</td>\n",
       "    </tr>\n",
       "  </tbody>\n",
       "</table>\n",
       "</div>"
      ],
      "text/plain": [
       "         sale      bonus\n",
       "0     Андреев  1415.9745\n",
       "1    Васильев   506.6200\n",
       "2      Иванов   920.8900\n",
       "3   Кузнецова  3634.2325\n",
       "4     Петрова  4190.9050\n",
       "5   Селиванов   588.8700\n",
       "6     Смирнов  1148.7400\n",
       "7  Филимонова   682.8050"
      ]
     },
     "execution_count": 493,
     "metadata": {},
     "output_type": "execute_result"
    }
   ],
   "source": [
    "bonus22 = bonus22.groupby('sale').agg({'sum':'sum'}).reset_index().rename(columns={'sum':'bonus'})\n",
    "bonus22['bonus'] = bonus22['bonus'] * 0.05\n",
    "bonus22"
   ]
  },
  {
   "cell_type": "code",
   "execution_count": 494,
   "id": "3ff6b2e2",
   "metadata": {},
   "outputs": [],
   "source": [
    "result_bonus = pd.merge(bonus1, pd.merge(bonus21, bonus22, how='outer', on='sale'), how='outer', on='sale')\n",
    "result_bonus.fillna(0, inplace=True)\n",
    "result_bonus['bonus_sum'] = result_bonus['bonus'] + result_bonus['bonus_x'] + result_bonus['bonus_y']\n",
    "result_bonus = result_bonus[['sale', 'bonus_sum']]"
   ]
  },
  {
   "cell_type": "code",
   "execution_count": 495,
   "id": "562d918d",
   "metadata": {
    "scrolled": false
   },
   "outputs": [],
   "source": [
    "all_mangagers = df1.groupby('sale').agg({'sum':'sum'}).reset_index()\n",
    "all_mangagers['st'] = all_mangagers['sum']*0\n",
    "all_mangagers = all_mangagers[['sale', 'st']]\n"
   ]
  },
  {
   "cell_type": "code",
   "execution_count": 496,
   "id": "64a936fd",
   "metadata": {},
   "outputs": [],
   "source": [
    "final_table = result_bonus.merge(all_mangagers, how='outer', on='sale')[['sale', 'bonus_sum']]\n",
    "final_table = final_table[final_table['sale'] != '-']"
   ]
  },
  {
   "cell_type": "markdown",
   "id": "33e0b592",
   "metadata": {},
   "source": [
    "**Остаток для каждого менеджера на на 01.07.2021**"
   ]
  },
  {
   "cell_type": "code",
   "execution_count": 497,
   "id": "479d223b",
   "metadata": {},
   "outputs": [
    {
     "data": {
      "text/html": [
       "<div>\n",
       "<style scoped>\n",
       "    .dataframe tbody tr th:only-of-type {\n",
       "        vertical-align: middle;\n",
       "    }\n",
       "\n",
       "    .dataframe tbody tr th {\n",
       "        vertical-align: top;\n",
       "    }\n",
       "\n",
       "    .dataframe thead th {\n",
       "        text-align: right;\n",
       "    }\n",
       "</style>\n",
       "<table border=\"1\" class=\"dataframe\">\n",
       "  <thead>\n",
       "    <tr style=\"text-align: right;\">\n",
       "      <th></th>\n",
       "      <th>sale</th>\n",
       "      <th>bonus_sum</th>\n",
       "    </tr>\n",
       "  </thead>\n",
       "  <tbody>\n",
       "    <tr>\n",
       "      <th>3</th>\n",
       "      <td>Петрова</td>\n",
       "      <td>8705.1640</td>\n",
       "    </tr>\n",
       "    <tr>\n",
       "      <th>0</th>\n",
       "      <td>Андреев</td>\n",
       "      <td>5364.5935</td>\n",
       "    </tr>\n",
       "    <tr>\n",
       "      <th>5</th>\n",
       "      <td>Смирнов</td>\n",
       "      <td>4538.2200</td>\n",
       "    </tr>\n",
       "    <tr>\n",
       "      <th>2</th>\n",
       "      <td>Кузнецова</td>\n",
       "      <td>4058.3646</td>\n",
       "    </tr>\n",
       "    <tr>\n",
       "      <th>4</th>\n",
       "      <td>Иванов</td>\n",
       "      <td>2872.1950</td>\n",
       "    </tr>\n",
       "    <tr>\n",
       "      <th>7</th>\n",
       "      <td>Филимонова</td>\n",
       "      <td>682.8050</td>\n",
       "    </tr>\n",
       "    <tr>\n",
       "      <th>6</th>\n",
       "      <td>Селиванов</td>\n",
       "      <td>588.8700</td>\n",
       "    </tr>\n",
       "    <tr>\n",
       "      <th>1</th>\n",
       "      <td>Васильев</td>\n",
       "      <td>541.8790</td>\n",
       "    </tr>\n",
       "    <tr>\n",
       "      <th>9</th>\n",
       "      <td>Михайлов</td>\n",
       "      <td>0.0000</td>\n",
       "    </tr>\n",
       "    <tr>\n",
       "      <th>10</th>\n",
       "      <td>Попов</td>\n",
       "      <td>0.0000</td>\n",
       "    </tr>\n",
       "    <tr>\n",
       "      <th>11</th>\n",
       "      <td>Соколов</td>\n",
       "      <td>0.0000</td>\n",
       "    </tr>\n",
       "  </tbody>\n",
       "</table>\n",
       "</div>"
      ],
      "text/plain": [
       "          sale  bonus_sum\n",
       "3      Петрова  8705.1640\n",
       "0      Андреев  5364.5935\n",
       "5      Смирнов  4538.2200\n",
       "2    Кузнецова  4058.3646\n",
       "4       Иванов  2872.1950\n",
       "7   Филимонова   682.8050\n",
       "6    Селиванов   588.8700\n",
       "1     Васильев   541.8790\n",
       "9     Михайлов     0.0000\n",
       "10       Попов     0.0000\n",
       "11     Соколов     0.0000"
      ]
     },
     "execution_count": 497,
     "metadata": {},
     "output_type": "execute_result"
    }
   ],
   "source": [
    "final_table.fillna(0).sort_values(by='bonus_sum', ascending=False)"
   ]
  }
 ],
 "metadata": {
  "kernelspec": {
   "display_name": "Python 3 (ipykernel)",
   "language": "python",
   "name": "python3"
  },
  "language_info": {
   "codemirror_mode": {
    "name": "ipython",
    "version": 3
   },
   "file_extension": ".py",
   "mimetype": "text/x-python",
   "name": "python",
   "nbconvert_exporter": "python",
   "pygments_lexer": "ipython3",
   "version": "3.9.13"
  }
 },
 "nbformat": 4,
 "nbformat_minor": 5
}
